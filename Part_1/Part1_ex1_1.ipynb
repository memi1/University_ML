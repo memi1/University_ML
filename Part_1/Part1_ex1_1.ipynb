{
 "cells": [
  {
   "attachments": {},
   "cell_type": "markdown",
   "metadata": {},
   "source": [
    "Task 1"
   ]
  },
  {
   "attachments": {},
   "cell_type": "markdown",
   "metadata": {},
   "source": [
    "Creating matrices A and B"
   ]
  },
  {
   "cell_type": "code",
   "execution_count": 1,
   "metadata": {},
   "outputs": [
    {
     "name": "stdout",
     "output_type": "stream",
     "text": [
      "Matrix A:  [[61 61 49 ...  4 41 94]\n",
      " [25 78 49 ... 90 76 12]\n",
      " [71 67 62 ... 24 57 70]\n",
      " ...\n",
      " [53  2 22 ... 10 79 15]\n",
      " [99 43 72 ... 50  4 57]\n",
      " [36 90  9 ...  2 36 63]] \n",
      "\n",
      "Matrix B:  [[27 13 39 ... 31 62 96]\n",
      " [56 10 38 ... 76 42 42]\n",
      " [26  2 77 ... 80 95 90]\n",
      " ...\n",
      " [24 63 38 ... 85 72 11]\n",
      " [39 25 13 ... 73 91 80]\n",
      " [24 14 84 ... 36 14 98]] \n",
      "\n"
     ]
    }
   ],
   "source": [
    "import cupy as cp\n",
    "rand_A =  cp.random.randint(100,size = (1500,1500))\n",
    "rand_B = cp.random.randint(100,size = (1500,1500))\n",
    "\n",
    "print('Matrix A: ', rand_A, '\\n')\n",
    "print('Matrix B: ', rand_B, '\\n')"
   ]
  },
  {
   "attachments": {},
   "cell_type": "markdown",
   "metadata": {},
   "source": [
    "За да докажем, че равенството - $(AB)^{-1} = B^{-1}A^{-1}$ е вярно , то трябва да намерим детерминантата на дадените матрици и те трябва да са ≠ от 0;\n",
    "тогава матриците могат да бъдат обратими и може да продължим с решението."
   ]
  },
  {
   "cell_type": "code",
   "execution_count": 2,
   "metadata": {},
   "outputs": [
    {
     "name": "stdout",
     "output_type": "stream",
     "text": [
      "inf\n",
      "-inf\n"
     ]
    }
   ],
   "source": [
    "dA = cp.linalg.det(rand_A)\n",
    "dB = cp.linalg.det(rand_B)\n",
    "print(dA)\n",
    "print(dB)"
   ]
  },
  {
   "cell_type": "markdown",
   "metadata": {},
   "source": [
    "Получаваме детерминантите на двете матрици, ако са различни от 0, обръщаме матриците A и B, намираме произведението им baI. Произведението на A и B е ab, след което получената матрица ab е обърната.\n",
    "Накрая срявняваме двете матрици и получаваме нужния резултат.\n",
    "Else е случая където някоя от детерминантите на A и B може да е = 0."
   ]
  },
  {
   "cell_type": "code",
   "execution_count": 3,
   "metadata": {},
   "outputs": [
    {
     "name": "stdout",
     "output_type": "stream",
     "text": [
      "Are the equations equal :  True\n"
     ]
    }
   ],
   "source": [
    "if dA != 0 and dB != 0:\n",
    "    aI = cp.linalg.inv(rand_A)\n",
    "    bI = cp.linalg.inv(rand_B)\n",
    "    baI = cp.dot(bI,aI)\n",
    "    ab = cp.dot(rand_A,rand_B)\n",
    "    ab = cp.linalg.inv(ab)\n",
    "    res = cp.allclose(ab,baI)\n",
    "    print('Are the equations equal : ', res)\n",
    "else: pass\n"
   ]
  },
  {
   "cell_type": "markdown",
   "metadata": {},
   "source": [
    "Разглеждаме : $(A^T)^{-1}=(A^{-1})^T$"
   ]
  },
  {
   "cell_type": "code",
   "execution_count": 4,
   "metadata": {},
   "outputs": [
    {
     "name": "stdout",
     "output_type": "stream",
     "text": [
      "Are the equations equal :  True\n"
     ]
    }
   ],
   "source": [
    "if dA != 0:\n",
    "    aT = cp.transpose(rand_A)\n",
    "    atI = cp.linalg.inv(aT)\n",
    "    Ai = cp.linalg.inv(rand_A)\n",
    "    At = cp.transpose(Ai)\n",
    "    r = cp.allclose(atI,At)\n",
    "    print('Are the equations equal : ', r)\n",
    "else: pass"
   ]
  },
  {
   "cell_type": "markdown",
   "metadata": {},
   "source": [
    "Разглежадаме : $(\\alpha A)^{-1}=(1/\\alpha)A^{-1}$,  $\\alpha$ е реално число."
   ]
  },
  {
   "cell_type": "code",
   "execution_count": 5,
   "metadata": {},
   "outputs": [
    {
     "name": "stdout",
     "output_type": "stream",
     "text": [
      "Are the equations equal :  True\n"
     ]
    }
   ],
   "source": [
    "alpha = cp.real(cp.random.randint(100))\n",
    "al1 = 1/alpha\n",
    "if dA != 0 :\n",
    "    aAI = cp.linalg.inv(alpha * rand_A)\n",
    "    ai = cp.linalg.inv(rand_A)\n",
    "    m = al1 * ai\n",
    "    rez = cp.allclose(aAI, m)\n",
    "    print('Are the equations equal : ', rez)\n",
    "else: pass"
   ]
  },
  {
   "cell_type": "markdown",
   "metadata": {},
   "source": [
    "Numpy"
   ]
  },
  {
   "cell_type": "markdown",
   "metadata": {},
   "source": [
    "\n",
    "$(AB)^{-1} = B^{-1}A^{-1}$"
   ]
  },
  {
   "cell_type": "code",
   "execution_count": 6,
   "metadata": {},
   "outputs": [
    {
     "name": "stdout",
     "output_type": "stream",
     "text": [
      "-inf\n",
      "inf\n"
     ]
    },
    {
     "name": "stderr",
     "output_type": "stream",
     "text": [
      "/home/memi/Desktop/ML_Uni/.venv/lib/python3.10/site-packages/numpy/linalg/linalg.py:2139: RuntimeWarning: overflow encountered in det\n",
      "  r = _umath_linalg.det(a, signature=signature)\n"
     ]
    },
    {
     "name": "stdout",
     "output_type": "stream",
     "text": [
      "Are the equations equal :  True\n"
     ]
    }
   ],
   "source": [
    "import numpy as np\n",
    "\n",
    "rand_A =  np.random.randint(100,size = (1500,1500))\n",
    "rand_B = np.random.randint(100,size = (1500,1500))\n",
    "dA = np.linalg.det(rand_A)\n",
    "dB = np.linalg.det(rand_B)\n",
    "print(dA)\n",
    "print(dB)\n",
    "if dA != 0 and dB != 0:\n",
    "    aI = np.linalg.inv(rand_A)\n",
    "    bI = np.linalg.inv(rand_B)\n",
    "    baI = np.dot(bI,aI)\n",
    "    ab = np.dot(rand_A,rand_B)\n",
    "    ab = np.linalg.inv(ab)\n",
    "    res = np.allclose(ab,baI)\n",
    "    print('Are the equations equal : ', res)\n",
    "else: pass"
   ]
  },
  {
   "cell_type": "markdown",
   "metadata": {},
   "source": [
    "$(A^T)^{-1}=(A^{-1})^T$"
   ]
  },
  {
   "cell_type": "code",
   "execution_count": 7,
   "metadata": {},
   "outputs": [
    {
     "name": "stdout",
     "output_type": "stream",
     "text": [
      "Are the equations equal :  True\n"
     ]
    }
   ],
   "source": [
    "if dA != 0:\n",
    "    aT = np.transpose(rand_A)\n",
    "    atI = np.linalg.inv(aT)\n",
    "    Ai = np.linalg.inv(rand_A)\n",
    "    At = np.transpose(Ai)\n",
    "    r = np.allclose(atI,At)\n",
    "    print('Are the equations equal : ', r)\n",
    "else: pass"
   ]
  },
  {
   "cell_type": "markdown",
   "metadata": {},
   "source": [
    " $(\\alpha A)^{-1}=(1/\\alpha)A^{-1}$,  $\\alpha$ е реално число."
   ]
  },
  {
   "cell_type": "code",
   "execution_count": 8,
   "metadata": {},
   "outputs": [
    {
     "name": "stdout",
     "output_type": "stream",
     "text": [
      "Are the equations equal :  True\n"
     ]
    }
   ],
   "source": [
    "alpha = np.real(np.random.randint(100))\n",
    "al1 = 1/alpha\n",
    "if dA != 0 :\n",
    "    aAI = np.linalg.inv(alpha * rand_A)\n",
    "    ai = np.linalg.inv(rand_A)\n",
    "    m = al1 * ai\n",
    "    rez = np.allclose(aAI, m)\n",
    "    print('Are the equations equal : ', rez)\n",
    "else: pass"
   ]
  }
 ],
 "metadata": {
  "interpreter": {
   "hash": "57baa5815c940fdaff4d14510622de9616cae602444507ba5d0b6727c008cbd6"
  },
  "kernelspec": {
   "display_name": "Python 3.7.8 64-bit",
   "language": "python",
   "name": "python3"
  },
  "language_info": {
   "codemirror_mode": {
    "name": "ipython",
    "version": 3
   },
   "file_extension": ".py",
   "mimetype": "text/x-python",
   "name": "python",
   "nbconvert_exporter": "python",
   "pygments_lexer": "ipython3",
   "version": "3.10.6"
  },
  "orig_nbformat": 4
 },
 "nbformat": 4,
 "nbformat_minor": 2
}
