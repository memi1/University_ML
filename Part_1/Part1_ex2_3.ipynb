{
 "cells": [
  {
   "cell_type": "markdown",
   "metadata": {},
   "source": [
    "**Задача 3 (SVM)**"
   ]
  },
  {
   "cell_type": "code",
   "execution_count": 1,
   "metadata": {},
   "outputs": [],
   "source": [
    "from sklearn.preprocessing import StandardScaler\n",
    "from sklearn.model_selection import train_test_split\n",
    "import pandas as pd\n",
    "import numpy as np\n",
    "from sklearn.svm import SVC\n",
    "from sklearn.linear_model import LogisticRegression\n",
    "from sklearn.model_selection import GridSearchCV\n",
    "from sklearn.metrics import accuracy_score\n",
    "import matplotlib.pyplot as plt\n",
    "from sklearn import metrics\n",
    "from sklearn.metrics import ConfusionMatrixDisplay\n",
    "from sklearn.metrics import classification_report, confusion_matrix\n",
    "import warnings\n",
    "warnings.filterwarnings('ignore')\n"
   ]
  },
  {
   "cell_type": "code",
   "execution_count": 2,
   "metadata": {},
   "outputs": [
    {
     "name": "stdout",
     "output_type": "stream",
     "text": [
      "(1000, 785)\n"
     ]
    },
    {
     "data": {
      "text/html": [
       "<div>\n",
       "<style scoped>\n",
       "    .dataframe tbody tr th:only-of-type {\n",
       "        vertical-align: middle;\n",
       "    }\n",
       "\n",
       "    .dataframe tbody tr th {\n",
       "        vertical-align: top;\n",
       "    }\n",
       "\n",
       "    .dataframe thead th {\n",
       "        text-align: right;\n",
       "    }\n",
       "</style>\n",
       "<table border=\"1\" class=\"dataframe\">\n",
       "  <thead>\n",
       "    <tr style=\"text-align: right;\">\n",
       "      <th></th>\n",
       "      <th>H1</th>\n",
       "      <th>H2</th>\n",
       "      <th>H3</th>\n",
       "      <th>H4</th>\n",
       "      <th>H5</th>\n",
       "      <th>H6</th>\n",
       "      <th>H7</th>\n",
       "      <th>H8</th>\n",
       "      <th>H9</th>\n",
       "      <th>H10</th>\n",
       "      <th>...</th>\n",
       "      <th>H776</th>\n",
       "      <th>H777</th>\n",
       "      <th>H778</th>\n",
       "      <th>H779</th>\n",
       "      <th>H780</th>\n",
       "      <th>H781</th>\n",
       "      <th>H782</th>\n",
       "      <th>H783</th>\n",
       "      <th>H784</th>\n",
       "      <th>y</th>\n",
       "    </tr>\n",
       "  </thead>\n",
       "  <tbody>\n",
       "    <tr>\n",
       "      <th>0</th>\n",
       "      <td>0</td>\n",
       "      <td>0</td>\n",
       "      <td>0</td>\n",
       "      <td>0</td>\n",
       "      <td>0</td>\n",
       "      <td>0</td>\n",
       "      <td>0</td>\n",
       "      <td>0</td>\n",
       "      <td>0</td>\n",
       "      <td>22</td>\n",
       "      <td>...</td>\n",
       "      <td>0</td>\n",
       "      <td>0</td>\n",
       "      <td>1</td>\n",
       "      <td>0</td>\n",
       "      <td>0</td>\n",
       "      <td>3</td>\n",
       "      <td>0</td>\n",
       "      <td>0</td>\n",
       "      <td>0</td>\n",
       "      <td>6</td>\n",
       "    </tr>\n",
       "    <tr>\n",
       "      <th>1</th>\n",
       "      <td>0</td>\n",
       "      <td>0</td>\n",
       "      <td>0</td>\n",
       "      <td>0</td>\n",
       "      <td>0</td>\n",
       "      <td>0</td>\n",
       "      <td>0</td>\n",
       "      <td>0</td>\n",
       "      <td>0</td>\n",
       "      <td>0</td>\n",
       "      <td>...</td>\n",
       "      <td>0</td>\n",
       "      <td>0</td>\n",
       "      <td>91</td>\n",
       "      <td>97</td>\n",
       "      <td>80</td>\n",
       "      <td>78</td>\n",
       "      <td>0</td>\n",
       "      <td>0</td>\n",
       "      <td>0</td>\n",
       "      <td>9</td>\n",
       "    </tr>\n",
       "    <tr>\n",
       "      <th>2</th>\n",
       "      <td>0</td>\n",
       "      <td>0</td>\n",
       "      <td>0</td>\n",
       "      <td>0</td>\n",
       "      <td>0</td>\n",
       "      <td>0</td>\n",
       "      <td>0</td>\n",
       "      <td>0</td>\n",
       "      <td>0</td>\n",
       "      <td>0</td>\n",
       "      <td>...</td>\n",
       "      <td>0</td>\n",
       "      <td>0</td>\n",
       "      <td>0</td>\n",
       "      <td>0</td>\n",
       "      <td>0</td>\n",
       "      <td>0</td>\n",
       "      <td>0</td>\n",
       "      <td>0</td>\n",
       "      <td>0</td>\n",
       "      <td>9</td>\n",
       "    </tr>\n",
       "    <tr>\n",
       "      <th>3</th>\n",
       "      <td>0</td>\n",
       "      <td>0</td>\n",
       "      <td>0</td>\n",
       "      <td>0</td>\n",
       "      <td>0</td>\n",
       "      <td>0</td>\n",
       "      <td>0</td>\n",
       "      <td>0</td>\n",
       "      <td>1</td>\n",
       "      <td>2</td>\n",
       "      <td>...</td>\n",
       "      <td>0</td>\n",
       "      <td>0</td>\n",
       "      <td>0</td>\n",
       "      <td>0</td>\n",
       "      <td>0</td>\n",
       "      <td>0</td>\n",
       "      <td>0</td>\n",
       "      <td>0</td>\n",
       "      <td>0</td>\n",
       "      <td>4</td>\n",
       "    </tr>\n",
       "    <tr>\n",
       "      <th>4</th>\n",
       "      <td>0</td>\n",
       "      <td>0</td>\n",
       "      <td>0</td>\n",
       "      <td>0</td>\n",
       "      <td>0</td>\n",
       "      <td>0</td>\n",
       "      <td>0</td>\n",
       "      <td>0</td>\n",
       "      <td>0</td>\n",
       "      <td>0</td>\n",
       "      <td>...</td>\n",
       "      <td>0</td>\n",
       "      <td>0</td>\n",
       "      <td>0</td>\n",
       "      <td>0</td>\n",
       "      <td>0</td>\n",
       "      <td>0</td>\n",
       "      <td>0</td>\n",
       "      <td>0</td>\n",
       "      <td>0</td>\n",
       "      <td>1</td>\n",
       "    </tr>\n",
       "  </tbody>\n",
       "</table>\n",
       "<p>5 rows × 785 columns</p>\n",
       "</div>"
      ],
      "text/plain": [
       "   H1  H2  H3  H4  H5  H6  H7  H8  H9  H10  ...  H776  H777  H778  H779  H780   \n",
       "0   0   0   0   0   0   0   0   0   0   22  ...     0     0     1     0     0  \\\n",
       "1   0   0   0   0   0   0   0   0   0    0  ...     0     0    91    97    80   \n",
       "2   0   0   0   0   0   0   0   0   0    0  ...     0     0     0     0     0   \n",
       "3   0   0   0   0   0   0   0   0   1    2  ...     0     0     0     0     0   \n",
       "4   0   0   0   0   0   0   0   0   0    0  ...     0     0     0     0     0   \n",
       "\n",
       "   H781  H782  H783  H784  y  \n",
       "0     3     0     0     0  6  \n",
       "1    78     0     0     0  9  \n",
       "2     0     0     0     0  9  \n",
       "3     0     0     0     0  4  \n",
       "4     0     0     0     0  1  \n",
       "\n",
       "[5 rows x 785 columns]"
      ]
     },
     "execution_count": 2,
     "metadata": {},
     "output_type": "execute_result"
    }
   ],
   "source": [
    "data = pd.read_csv ('data.csv')\n",
    "df = pd.DataFrame(data)\n",
    "print(df.shape)\n",
    "df.head()"
   ]
  },
  {
   "cell_type": "code",
   "execution_count": 3,
   "metadata": {},
   "outputs": [
    {
     "data": {
      "image/png": "[encoded data removed]",
      "text/plain": [
       "<Figure size 500x500 with 1 Axes>"
      ]
     },
     "metadata": {},
     "output_type": "display_data"
    }
   ],
   "source": [
    "import seaborn as sns\n",
    "\n",
    "g = sns.catplot(x = 'y', kind = 'count', data=data)"
   ]
  },
  {
   "cell_type": "code",
   "execution_count": 4,
   "metadata": {},
   "outputs": [
    {
     "name": "stdout",
     "output_type": "stream",
     "text": [
      "(1000,)\n",
      "(1000, 784)\n"
     ]
    }
   ],
   "source": [
    "y = df['y']\n",
    "X = df.drop(columns = ['y'])\n",
    "print(y.shape)\n",
    "print(X.shape)"
   ]
  },
  {
   "cell_type": "code",
   "execution_count": 5,
   "metadata": {},
   "outputs": [
    {
     "name": "stdout",
     "output_type": "stream",
     "text": [
      "(900, 784) (100, 784) (900,) (100,)\n"
     ]
    }
   ],
   "source": [
    "X_train, X_test, y_train, y_test = train_test_split(X, y,train_size = 0.9, random_state=58)\n",
    "print(X_train.shape, X_test.shape, y_train.shape, y_test.shape)"
   ]
  },
  {
   "cell_type": "markdown",
   "metadata": {},
   "source": [
    "SVM"
   ]
  },
  {
   "cell_type": "code",
   "execution_count": 6,
   "metadata": {},
   "outputs": [],
   "source": [
    "svm = SVC(kernel='linear', C = 0.1)\n",
    "svm = svm.fit(X_train, y_train)"
   ]
  },
  {
   "cell_type": "code",
   "execution_count": 7,
   "metadata": {},
   "outputs": [],
   "source": [
    "pred_svm = svm.predict(X_test)"
   ]
  },
  {
   "cell_type": "code",
   "execution_count": 8,
   "metadata": {},
   "outputs": [
    {
     "data": {
      "image/png": "[encoded data removed]",
      "text/plain": [
       "<Figure size 800x600 with 1 Axes>"
      ]
     },
     "metadata": {},
     "output_type": "display_data"
    }
   ],
   "source": [
    "fig, ax = plt.subplots(figsize=(8, 6))\n",
    "ConfusionMatrixDisplay.from_estimator(svm, X_test, y_test, ax=ax, colorbar=False, cmap=\"Blues\", normalize=\"true\")\n",
    "plt.title('Confusion matrix for our classifier')\n",
    "plt.show()"
   ]
  },
  {
   "cell_type": "code",
   "execution_count": 9,
   "metadata": {},
   "outputs": [
    {
     "name": "stdout",
     "output_type": "stream",
     "text": [
      "              precision    recall  f1-score   support\n",
      "\n",
      "           0       0.45      0.71      0.56         7\n",
      "           1       1.00      0.92      0.96        12\n",
      "           2       0.64      0.64      0.64        11\n",
      "           3       0.92      0.85      0.88        13\n",
      "           4       0.71      0.62      0.67         8\n",
      "           5       0.90      0.82      0.86        11\n",
      "           6       0.78      0.70      0.74        10\n",
      "           7       0.70      0.88      0.78         8\n",
      "           8       0.80      0.89      0.84         9\n",
      "           9       0.89      0.73      0.80        11\n",
      "\n",
      "    accuracy                           0.78       100\n",
      "   macro avg       0.78      0.77      0.77       100\n",
      "weighted avg       0.80      0.78      0.79       100\n",
      "\n"
     ]
    }
   ],
   "source": [
    "print(classification_report(y_test,pred_svm))"
   ]
  },
  {
   "cell_type": "markdown",
   "metadata": {},
   "source": [
    "Логистична регресия\n"
   ]
  },
  {
   "cell_type": "code",
   "execution_count": 10,
   "metadata": {},
   "outputs": [],
   "source": [
    "lgr = LogisticRegression()\n",
    "lgr = lgr.fit(X_train, y_train)\n",
    "pred_lgr = lgr.predict(X_test)"
   ]
  },
  {
   "cell_type": "code",
   "execution_count": 11,
   "metadata": {},
   "outputs": [
    {
     "data": {
      "image/png": "[encoded data removed]",
      "text/plain": [
       "<Figure size 800x600 with 1 Axes>"
      ]
     },
     "metadata": {},
     "output_type": "display_data"
    }
   ],
   "source": [
    "fig, ax = plt.subplots(figsize=(8, 6))\n",
    "ConfusionMatrixDisplay.from_estimator(lgr, X_test, y_test, ax=ax, colorbar=False, cmap=\"Blues\", normalize=\"true\")\n",
    "plt.title('Confusion matrix for our classifier')\n",
    "plt.show()"
   ]
  },
  {
   "cell_type": "code",
   "execution_count": 12,
   "metadata": {},
   "outputs": [
    {
     "name": "stdout",
     "output_type": "stream",
     "text": [
      "              precision    recall  f1-score   support\n",
      "\n",
      "           0       0.44      0.57      0.50         7\n",
      "           1       0.79      0.92      0.85        12\n",
      "           2       0.67      0.73      0.70        11\n",
      "           3       0.90      0.69      0.78        13\n",
      "           4       0.83      0.62      0.71         8\n",
      "           5       0.88      0.64      0.74        11\n",
      "           6       0.56      0.50      0.53        10\n",
      "           7       0.64      0.88      0.74         8\n",
      "           8       0.73      0.89      0.80         9\n",
      "           9       0.70      0.64      0.67        11\n",
      "\n",
      "    accuracy                           0.71       100\n",
      "   macro avg       0.71      0.71      0.70       100\n",
      "weighted avg       0.73      0.71      0.71       100\n",
      "\n"
     ]
    }
   ],
   "source": [
    "print(classification_report(y_test,pred_lgr))"
   ]
  },
  {
   "cell_type": "markdown",
   "metadata": {},
   "source": [
    "1. Намерете 5-те двойки класове, които дават най-добри резултати в SVM и в LogReg като използвате останалите 10% от данните. \n",
    "<br>\n",
    "(0,6) ; (2,4); (0,8); (5,7); (7,9) ->svm \n",
    "<br>\n",
    "(0,6) ; (2,4); (0,8); (5,9); (7,9) ->lgr \n",
    "<br>\n",
    "\n",
    "2. Кой от двата типа модели дава по-добри резултати?\n",
    "<br>\n",
    "SVM дава малко по-добри резултати, отколкото логистичната регресия."
   ]
  },
  {
   "cell_type": "markdown",
   "metadata": {},
   "source": [
    "3. Подобряват ли се резултатите ако мащабирате данните? \n",
    "<br>\n",
    "Да.\n"
   ]
  },
  {
   "cell_type": "code",
   "execution_count": 13,
   "metadata": {},
   "outputs": [],
   "source": [
    "X_std= StandardScaler().fit_transform(X)\n",
    "X_train_std, X_test_std, y_train_std, y_test_std = train_test_split(X_std, y,train_size = 0.9, random_state=58)\n"
   ]
  },
  {
   "cell_type": "code",
   "execution_count": 14,
   "metadata": {},
   "outputs": [],
   "source": [
    "svmS = SVC(kernel='linear', C = 0.1)\n",
    "svmS = svmS.fit(X_train_std, y_train_std)\n",
    "pred_svm_std = svmS.predict(X_test_std)"
   ]
  },
  {
   "cell_type": "code",
   "execution_count": 15,
   "metadata": {},
   "outputs": [
    {
     "name": "stdout",
     "output_type": "stream",
     "text": [
      "              precision    recall  f1-score   support\n",
      "\n",
      "           0       0.50      0.71      0.59         7\n",
      "           1       0.91      0.83      0.87        12\n",
      "           2       0.67      0.73      0.70        11\n",
      "           3       0.83      0.77      0.80        13\n",
      "           4       1.00      0.62      0.77         8\n",
      "           5       1.00      0.91      0.95        11\n",
      "           6       0.58      0.70      0.64        10\n",
      "           7       0.73      1.00      0.84         8\n",
      "           8       0.89      0.89      0.89         9\n",
      "           9       1.00      0.73      0.84        11\n",
      "\n",
      "    accuracy                           0.79       100\n",
      "   macro avg       0.81      0.79      0.79       100\n",
      "weighted avg       0.82      0.79      0.80       100\n",
      "\n"
     ]
    }
   ],
   "source": [
    "print(classification_report(y_test_std,pred_svm_std))"
   ]
  },
  {
   "cell_type": "code",
   "execution_count": 16,
   "metadata": {},
   "outputs": [],
   "source": [
    "lgr_std = LogisticRegression()\n",
    "lgr_std = lgr_std.fit(X_train_std, y_train_std)\n",
    "pred_lgr_std = lgr_std.predict(X_test_std)"
   ]
  },
  {
   "cell_type": "code",
   "execution_count": 17,
   "metadata": {},
   "outputs": [
    {
     "name": "stdout",
     "output_type": "stream",
     "text": [
      "              precision    recall  f1-score   support\n",
      "\n",
      "           0       0.50      0.71      0.59         7\n",
      "           1       0.91      0.83      0.87        12\n",
      "           2       0.64      0.64      0.64        11\n",
      "           3       0.85      0.85      0.85        13\n",
      "           4       0.50      0.38      0.43         8\n",
      "           5       1.00      0.73      0.84        11\n",
      "           6       0.55      0.60      0.57        10\n",
      "           7       0.62      1.00      0.76         8\n",
      "           8       0.71      0.56      0.63         9\n",
      "           9       0.80      0.73      0.76        11\n",
      "\n",
      "    accuracy                           0.71       100\n",
      "   macro avg       0.71      0.70      0.69       100\n",
      "weighted avg       0.73      0.71      0.71       100\n",
      "\n"
     ]
    }
   ],
   "source": [
    "print(classification_report(y_test_std,pred_lgr_std))"
   ]
  },
  {
   "cell_type": "markdown",
   "metadata": {},
   "source": [
    "4. Чрез `GridSearchCV` на `sklearn` намерете най-добрите стойности на хиперпараметрите на SVM с нелинейни ядра. Как бихте оценили подобрението в точността на нелинейния модел спрямо тази на линейния модел? "
   ]
  },
  {
   "cell_type": "code",
   "execution_count": 18,
   "metadata": {},
   "outputs": [
    {
     "name": "stdout",
     "output_type": "stream",
     "text": [
      "Fitting 5 folds for each of 60 candidates, totalling 300 fits\n",
      "[CV 3/5] END ........C=0.1, gamma=1, kernel=rbf;, score=0.128 total time=   0.3s\n",
      "[CV 4/5] END ........C=0.1, gamma=1, kernel=rbf;, score=0.128 total time=   0.3s\n",
      "[CV 1/5] END ........C=0.1, gamma=1, kernel=rbf;, score=0.133 total time=   0.3s\n",
      "[CV 2/5] END ........C=0.1, gamma=1, kernel=rbf;, score=0.128 total time=   0.3s\n",
      "[CV 1/5] END .......C=0.1, gamma=1, kernel=poly;, score=0.789 total time=   0.1s\n",
      "[CV 2/5] END .......C=0.1, gamma=1, kernel=poly;, score=0.756 total time=   0.1s\n",
      "[CV 3/5] END .......C=0.1, gamma=1, kernel=poly;, score=0.711 total time=   0.1s\n",
      "[CV 4/5] END .......C=0.1, gamma=1, kernel=poly;, score=0.744 total time=   0.1s\n",
      "[CV 5/5] END .......C=0.1, gamma=1, kernel=poly;, score=0.772 total time=   0.1s\n",
      "[CV 5/5] END ........C=0.1, gamma=1, kernel=rbf;, score=0.128 total time=   0.3s\n",
      "[CV 1/5] END ....C=0.1, gamma=1, kernel=sigmoid;, score=0.133 total time=   0.2s\n",
      "[CV 2/5] END ....C=0.1, gamma=1, kernel=sigmoid;, score=0.128 total time=   0.2s\n",
      "[CV 3/5] END ....C=0.1, gamma=1, kernel=sigmoid;, score=0.128 total time=   0.2s\n",
      "[CV 5/5] END ....C=0.1, gamma=1, kernel=sigmoid;, score=0.128 total time=   0.2s\n",
      "[CV 4/5] END ....C=0.1, gamma=1, kernel=sigmoid;, score=0.128 total time=   0.3s\n",
      "[CV 1/5] END ......C=0.1, gamma=0.1, kernel=rbf;, score=0.133 total time=   0.3s\n",
      "[CV 2/5] END ......C=0.1, gamma=0.1, kernel=rbf;, score=0.128 total time=   0.4s\n",
      "[CV 1/5] END .....C=0.1, gamma=0.1, kernel=poly;, score=0.789 total time=   0.1s\n",
      "[CV 3/5] END ......C=0.1, gamma=0.1, kernel=rbf;, score=0.128 total time=   0.3s\n",
      "[CV 2/5] END .....C=0.1, gamma=0.1, kernel=poly;, score=0.756 total time=   0.1s\n",
      "[CV 4/5] END ......C=0.1, gamma=0.1, kernel=rbf;, score=0.128 total time=   0.3s\n",
      "[CV 3/5] END .....C=0.1, gamma=0.1, kernel=poly;, score=0.711 total time=   0.1s\n",
      "[CV 5/5] END ......C=0.1, gamma=0.1, kernel=rbf;, score=0.128 total time=   0.3s\n",
      "[CV 4/5] END .....C=0.1, gamma=0.1, kernel=poly;, score=0.744 total time=   0.1s\n",
      "[CV 5/5] END .....C=0.1, gamma=0.1, kernel=poly;, score=0.772 total time=   0.1s\n",
      "[CV 1/5] END ..C=0.1, gamma=0.1, kernel=sigmoid;, score=0.133 total time=   0.3s\n",
      "[CV 2/5] END ..C=0.1, gamma=0.1, kernel=sigmoid;, score=0.128 total time=   0.3s\n",
      "[CV 3/5] END ..C=0.1, gamma=0.1, kernel=sigmoid;, score=0.128 total time=   0.2s\n",
      "[CV 4/5] END ..C=0.1, gamma=0.1, kernel=sigmoid;, score=0.128 total time=   0.3s\n",
      "[CV 5/5] END ..C=0.1, gamma=0.1, kernel=sigmoid;, score=0.128 total time=   0.2s\n",
      "[CV 1/5] END .....C=0.1, gamma=0.01, kernel=rbf;, score=0.133 total time=   0.3s\n",
      "[CV 3/5] END .....C=0.1, gamma=0.01, kernel=rbf;, score=0.128 total time=   0.3s\n",
      "[CV 2/5] END .....C=0.1, gamma=0.01, kernel=rbf;, score=0.128 total time=   0.3s\n",
      "[CV 1/5] END ....C=0.1, gamma=0.01, kernel=poly;, score=0.789 total time=   0.1s\n",
      "[CV 2/5] END ....C=0.1, gamma=0.01, kernel=poly;, score=0.756 total time=   0.1s\n",
      "[CV 4/5] END .....C=0.1, gamma=0.01, kernel=rbf;, score=0.128 total time=   0.3s\n",
      "[CV 4/5] END ....C=0.1, gamma=0.01, kernel=poly;, score=0.744 total time=   0.1s\n",
      "[CV 3/5] END ....C=0.1, gamma=0.01, kernel=poly;, score=0.711 total time=   0.1s\n",
      "[CV 5/5] END ....C=0.1, gamma=0.01, kernel=poly;, score=0.772 total time=   0.1s\n",
      "[CV 5/5] END .....C=0.1, gamma=0.01, kernel=rbf;, score=0.128 total time=   0.3s\n",
      "[CV 3/5] END .C=0.1, gamma=0.01, kernel=sigmoid;, score=0.128 total time=   0.2s\n",
      "[CV 1/5] END .C=0.1, gamma=0.01, kernel=sigmoid;, score=0.133 total time=   0.3s\n",
      "[CV 2/5] END .C=0.1, gamma=0.01, kernel=sigmoid;, score=0.128 total time=   0.3s\n",
      "[CV 4/5] END .C=0.1, gamma=0.01, kernel=sigmoid;, score=0.128 total time=   0.2s\n",
      "[CV 5/5] END .C=0.1, gamma=0.01, kernel=sigmoid;, score=0.128 total time=   0.2s\n",
      "[CV 2/5] END ....C=0.1, gamma=0.001, kernel=rbf;, score=0.128 total time=   0.3s\n",
      "[CV 3/5] END ....C=0.1, gamma=0.001, kernel=rbf;, score=0.128 total time=   0.3s\n",
      "[CV 1/5] END ....C=0.1, gamma=0.001, kernel=rbf;, score=0.133 total time=   0.4s\n",
      "[CV 1/5] END ...C=0.1, gamma=0.001, kernel=poly;, score=0.789 total time=   0.1s\n",
      "[CV 2/5] END ...C=0.1, gamma=0.001, kernel=poly;, score=0.756 total time=   0.1s\n",
      "[CV 4/5] END ....C=0.1, gamma=0.001, kernel=rbf;, score=0.128 total time=   0.3s\n",
      "[CV 3/5] END ...C=0.1, gamma=0.001, kernel=poly;, score=0.711 total time=   0.1s\n",
      "[CV 4/5] END ...C=0.1, gamma=0.001, kernel=poly;, score=0.744 total time=   0.1s\n",
      "[CV 5/5] END ...C=0.1, gamma=0.001, kernel=poly;, score=0.772 total time=   0.1s\n",
      "[CV 5/5] END ....C=0.1, gamma=0.001, kernel=rbf;, score=0.128 total time=   0.3s\n",
      "[CV 1/5] END C=0.1, gamma=0.001, kernel=sigmoid;, score=0.133 total time=   0.2s\n",
      "[CV 2/5] END C=0.1, gamma=0.001, kernel=sigmoid;, score=0.128 total time=   0.3s\n",
      "[CV 4/5] END C=0.1, gamma=0.001, kernel=sigmoid;, score=0.128 total time=   0.2s\n",
      "[CV 3/5] END C=0.1, gamma=0.001, kernel=sigmoid;, score=0.128 total time=   0.3s\n",
      "[CV 5/5] END C=0.1, gamma=0.001, kernel=sigmoid;, score=0.128 total time=   0.2s\n",
      "[CV 2/5] END ...C=0.1, gamma=0.0001, kernel=rbf;, score=0.128 total time=   0.3s\n",
      "[CV 1/5] END ...C=0.1, gamma=0.0001, kernel=rbf;, score=0.133 total time=   0.4s\n",
      "[CV 4/5] END ...C=0.1, gamma=0.0001, kernel=rbf;, score=0.128 total time=   0.4s\n",
      "[CV 1/5] END ..C=0.1, gamma=0.0001, kernel=poly;, score=0.789 total time=   0.1s\n",
      "[CV 2/5] END ..C=0.1, gamma=0.0001, kernel=poly;, score=0.756 total time=   0.1s\n",
      "[CV 3/5] END ..C=0.1, gamma=0.0001, kernel=poly;, score=0.711 total time=   0.1s\n",
      "[CV 3/5] END ...C=0.1, gamma=0.0001, kernel=rbf;, score=0.128 total time=   0.6s\n",
      "[CV 4/5] END ..C=0.1, gamma=0.0001, kernel=poly;, score=0.744 total time=   0.1s\n",
      "[CV 5/5] END ...C=0.1, gamma=0.0001, kernel=rbf;, score=0.128 total time=   0.4s\n",
      "[CV 5/5] END ..C=0.1, gamma=0.0001, kernel=poly;, score=0.772 total time=   0.1s\n",
      "[CV 1/5] END C=0.1, gamma=0.0001, kernel=sigmoid;, score=0.133 total time=   0.3s\n",
      "[CV 4/5] END C=0.1, gamma=0.0001, kernel=sigmoid;, score=0.128 total time=   0.3s\n",
      "[CV 3/5] END C=0.1, gamma=0.0001, kernel=sigmoid;, score=0.128 total time=   0.4s\n",
      "[CV 2/5] END C=0.1, gamma=0.0001, kernel=sigmoid;, score=0.128 total time=   0.4s\n",
      "[CV 5/5] END C=0.1, gamma=0.0001, kernel=sigmoid;, score=0.128 total time=   0.2s\n",
      "[CV 2/5] END ..........C=1, gamma=1, kernel=rbf;, score=0.128 total time=   0.3s\n",
      "[CV 1/5] END ..........C=1, gamma=1, kernel=rbf;, score=0.133 total time=   0.4s\n",
      "[CV 1/5] END .........C=1, gamma=1, kernel=poly;, score=0.789 total time=   0.1s\n",
      "[CV 4/5] END ..........C=1, gamma=1, kernel=rbf;, score=0.128 total time=   0.3s\n",
      "[CV 3/5] END ..........C=1, gamma=1, kernel=rbf;, score=0.128 total time=   0.5s\n",
      "[CV 3/5] END .........C=1, gamma=1, kernel=poly;, score=0.711 total time=   0.1s\n",
      "[CV 2/5] END .........C=1, gamma=1, kernel=poly;, score=0.756 total time=   0.1s\n",
      "[CV 5/5] END .........C=1, gamma=1, kernel=poly;, score=0.772 total time=   0.1s\n",
      "[CV 4/5] END .........C=1, gamma=1, kernel=poly;, score=0.744 total time=   0.1s\n",
      "[CV 5/5] END ..........C=1, gamma=1, kernel=rbf;, score=0.128 total time=   0.3s\n",
      "[CV 1/5] END ......C=1, gamma=1, kernel=sigmoid;, score=0.133 total time=   0.3s\n",
      "[CV 2/5] END ......C=1, gamma=1, kernel=sigmoid;, score=0.128 total time=   0.2s\n",
      "[CV 4/5] END ......C=1, gamma=1, kernel=sigmoid;, score=0.128 total time=   0.2s\n",
      "[CV 3/5] END ......C=1, gamma=1, kernel=sigmoid;, score=0.128 total time=   0.3s\n",
      "[CV 5/5] END ......C=1, gamma=1, kernel=sigmoid;, score=0.128 total time=   0.2s\n",
      "[CV 1/5] END ........C=1, gamma=0.1, kernel=rbf;, score=0.133 total time=   0.3s\n",
      "[CV 2/5] END ........C=1, gamma=0.1, kernel=rbf;, score=0.128 total time=   0.4s\n",
      "[CV 3/5] END ........C=1, gamma=0.1, kernel=rbf;, score=0.128 total time=   0.4s\n",
      "[CV 1/5] END .......C=1, gamma=0.1, kernel=poly;, score=0.789 total time=   0.1s\n",
      "[CV 4/5] END ........C=1, gamma=0.1, kernel=rbf;, score=0.128 total time=   0.4s\n",
      "[CV 2/5] END .......C=1, gamma=0.1, kernel=poly;, score=0.756 total time=   0.1s\n",
      "[CV 3/5] END .......C=1, gamma=0.1, kernel=poly;, score=0.711 total time=   0.1s\n",
      "[CV 5/5] END ........C=1, gamma=0.1, kernel=rbf;, score=0.128 total time=   0.3s\n",
      "[CV 4/5] END .......C=1, gamma=0.1, kernel=poly;, score=0.744 total time=   0.1s\n",
      "[CV 5/5] END .......C=1, gamma=0.1, kernel=poly;, score=0.772 total time=   0.1s\n",
      "[CV 1/5] END ....C=1, gamma=0.1, kernel=sigmoid;, score=0.133 total time=   0.2s\n",
      "[CV 2/5] END ....C=1, gamma=0.1, kernel=sigmoid;, score=0.128 total time=   0.2s\n",
      "[CV 3/5] END ....C=1, gamma=0.1, kernel=sigmoid;, score=0.128 total time=   0.2s\n",
      "[CV 4/5] END ....C=1, gamma=0.1, kernel=sigmoid;, score=0.128 total time=   0.3s\n",
      "[CV 5/5] END ....C=1, gamma=0.1, kernel=sigmoid;, score=0.128 total time=   0.2s\n",
      "[CV 1/5] END .......C=1, gamma=0.01, kernel=rbf;, score=0.133 total time=   0.3s\n",
      "[CV 2/5] END .......C=1, gamma=0.01, kernel=rbf;, score=0.128 total time=   0.3s\n",
      "[CV 3/5] END .......C=1, gamma=0.01, kernel=rbf;, score=0.128 total time=   0.4s\n",
      "[CV 1/5] END ......C=1, gamma=0.01, kernel=poly;, score=0.789 total time=   0.1s\n",
      "[CV 4/5] END .......C=1, gamma=0.01, kernel=rbf;, score=0.128 total time=   0.3s\n",
      "[CV 2/5] END ......C=1, gamma=0.01, kernel=poly;, score=0.756 total time=   0.1s\n",
      "[CV 3/5] END ......C=1, gamma=0.01, kernel=poly;, score=0.711 total time=   0.1s\n",
      "[CV 4/5] END ......C=1, gamma=0.01, kernel=poly;, score=0.744 total time=   0.1s\n",
      "[CV 5/5] END ......C=1, gamma=0.01, kernel=poly;, score=0.772 total time=   0.1s\n",
      "[CV 5/5] END .......C=1, gamma=0.01, kernel=rbf;, score=0.128 total time=   0.3s\n",
      "[CV 1/5] END ...C=1, gamma=0.01, kernel=sigmoid;, score=0.133 total time=   0.3s\n",
      "[CV 2/5] END ...C=1, gamma=0.01, kernel=sigmoid;, score=0.128 total time=   0.2s\n",
      "[CV 4/5] END ...C=1, gamma=0.01, kernel=sigmoid;, score=0.128 total time=   0.2s\n",
      "[CV 3/5] END ...C=1, gamma=0.01, kernel=sigmoid;, score=0.128 total time=   0.3s\n",
      "[CV 5/5] END ...C=1, gamma=0.01, kernel=sigmoid;, score=0.128 total time=   0.2s\n",
      "[CV 1/5] END ......C=1, gamma=0.001, kernel=rbf;, score=0.133 total time=   0.3s\n",
      "[CV 2/5] END ......C=1, gamma=0.001, kernel=rbf;, score=0.128 total time=   0.3s\n",
      "[CV 3/5] END ......C=1, gamma=0.001, kernel=rbf;, score=0.128 total time=   0.3s\n",
      "[CV 1/5] END .....C=1, gamma=0.001, kernel=poly;, score=0.789 total time=   0.1s\n",
      "[CV 2/5] END .....C=1, gamma=0.001, kernel=poly;, score=0.756 total time=   0.1s\n",
      "[CV 3/5] END .....C=1, gamma=0.001, kernel=poly;, score=0.711 total time=   0.1s\n",
      "[CV 4/5] END .....C=1, gamma=0.001, kernel=poly;, score=0.744 total time=   0.1s\n",
      "[CV 4/5] END ......C=1, gamma=0.001, kernel=rbf;, score=0.128 total time=   0.3s\n",
      "[CV 5/5] END .....C=1, gamma=0.001, kernel=poly;, score=0.772 total time=   0.1s\n",
      "[CV 5/5] END ......C=1, gamma=0.001, kernel=rbf;, score=0.128 total time=   0.3s\n",
      "[CV 1/5] END ..C=1, gamma=0.001, kernel=sigmoid;, score=0.133 total time=   0.2s\n",
      "[CV 2/5] END ..C=1, gamma=0.001, kernel=sigmoid;, score=0.128 total time=   0.2s\n",
      "[CV 3/5] END ..C=1, gamma=0.001, kernel=sigmoid;, score=0.128 total time=   0.3s\n",
      "[CV 4/5] END ..C=1, gamma=0.001, kernel=sigmoid;, score=0.128 total time=   0.2s\n",
      "[CV 5/5] END ..C=1, gamma=0.001, kernel=sigmoid;, score=0.128 total time=   0.2s\n",
      "[CV 1/5] END .....C=1, gamma=0.0001, kernel=rbf;, score=0.133 total time=   0.3s\n",
      "[CV 2/5] END .....C=1, gamma=0.0001, kernel=rbf;, score=0.128 total time=   0.3s\n",
      "[CV 3/5] END .....C=1, gamma=0.0001, kernel=rbf;, score=0.128 total time=   0.3s\n",
      "[CV 2/5] END ....C=1, gamma=0.0001, kernel=poly;, score=0.756 total time=   0.1s\n",
      "[CV 1/5] END ....C=1, gamma=0.0001, kernel=poly;, score=0.789 total time=   0.1s\n",
      "[CV 4/5] END .....C=1, gamma=0.0001, kernel=rbf;, score=0.128 total time=   0.3s\n",
      "[CV 4/5] END ....C=1, gamma=0.0001, kernel=poly;, score=0.744 total time=   0.1s\n",
      "[CV 3/5] END ....C=1, gamma=0.0001, kernel=poly;, score=0.711 total time=   0.1s\n",
      "[CV 5/5] END ....C=1, gamma=0.0001, kernel=poly;, score=0.772 total time=   0.1s\n",
      "[CV 5/5] END .....C=1, gamma=0.0001, kernel=rbf;, score=0.128 total time=   0.3s\n",
      "[CV 1/5] END .C=1, gamma=0.0001, kernel=sigmoid;, score=0.133 total time=   0.2s\n",
      "[CV 2/5] END .C=1, gamma=0.0001, kernel=sigmoid;, score=0.128 total time=   0.2s\n",
      "[CV 3/5] END .C=1, gamma=0.0001, kernel=sigmoid;, score=0.128 total time=   0.2s\n",
      "[CV 4/5] END .C=1, gamma=0.0001, kernel=sigmoid;, score=0.128 total time=   0.2s\n",
      "[CV 5/5] END .C=1, gamma=0.0001, kernel=sigmoid;, score=0.128 total time=   0.2s\n",
      "[CV 2/5] END .........C=10, gamma=1, kernel=rbf;, score=0.128 total time=   0.3s\n",
      "[CV 1/5] END .........C=10, gamma=1, kernel=rbf;, score=0.133 total time=   0.3s\n",
      "[CV 1/5] END ........C=10, gamma=1, kernel=poly;, score=0.789 total time=   0.1s\n",
      "[CV 3/5] END .........C=10, gamma=1, kernel=rbf;, score=0.128 total time=   0.3s\n",
      "[CV 2/5] END ........C=10, gamma=1, kernel=poly;, score=0.756 total time=   0.1s\n",
      "[CV 4/5] END .........C=10, gamma=1, kernel=rbf;, score=0.128 total time=   0.3s\n",
      "[CV 3/5] END ........C=10, gamma=1, kernel=poly;, score=0.711 total time=   0.1s\n",
      "[CV 4/5] END ........C=10, gamma=1, kernel=poly;, score=0.744 total time=   0.1s\n",
      "[CV 5/5] END ........C=10, gamma=1, kernel=poly;, score=0.772 total time=   0.1s\n",
      "[CV 5/5] END .........C=10, gamma=1, kernel=rbf;, score=0.128 total time=   0.3s\n",
      "[CV 2/5] END .....C=10, gamma=1, kernel=sigmoid;, score=0.128 total time=   0.2s\n",
      "[CV 1/5] END .....C=10, gamma=1, kernel=sigmoid;, score=0.133 total time=   0.3s\n",
      "[CV 3/5] END .....C=10, gamma=1, kernel=sigmoid;, score=0.128 total time=   0.2s\n",
      "[CV 4/5] END .....C=10, gamma=1, kernel=sigmoid;, score=0.128 total time=   0.2s\n",
      "[CV 5/5] END .....C=10, gamma=1, kernel=sigmoid;, score=0.128 total time=   0.2s\n",
      "[CV 2/5] END .......C=10, gamma=0.1, kernel=rbf;, score=0.128 total time=   0.3s\n",
      "[CV 3/5] END .......C=10, gamma=0.1, kernel=rbf;, score=0.128 total time=   0.3s\n",
      "[CV 1/5] END .......C=10, gamma=0.1, kernel=rbf;, score=0.133 total time=   0.3s\n",
      "[CV 1/5] END ......C=10, gamma=0.1, kernel=poly;, score=0.789 total time=   0.1s\n",
      "[CV 2/5] END ......C=10, gamma=0.1, kernel=poly;, score=0.756 total time=   0.1s\n",
      "[CV 3/5] END ......C=10, gamma=0.1, kernel=poly;, score=0.711 total time=   0.1s\n",
      "[CV 4/5] END ......C=10, gamma=0.1, kernel=poly;, score=0.744 total time=   0.1s\n",
      "[CV 4/5] END .......C=10, gamma=0.1, kernel=rbf;, score=0.128 total time=   0.3s\n",
      "[CV 5/5] END ......C=10, gamma=0.1, kernel=poly;, score=0.772 total time=   0.1s\n",
      "[CV 5/5] END .......C=10, gamma=0.1, kernel=rbf;, score=0.128 total time=   0.3s\n",
      "[CV 2/5] END ...C=10, gamma=0.1, kernel=sigmoid;, score=0.128 total time=   0.2s\n",
      "[CV 1/5] END ...C=10, gamma=0.1, kernel=sigmoid;, score=0.133 total time=   0.3s\n",
      "[CV 3/5] END ...C=10, gamma=0.1, kernel=sigmoid;, score=0.128 total time=   0.2s\n",
      "[CV 4/5] END ...C=10, gamma=0.1, kernel=sigmoid;, score=0.128 total time=   0.2s\n",
      "[CV 5/5] END ...C=10, gamma=0.1, kernel=sigmoid;, score=0.128 total time=   0.2s\n",
      "[CV 2/5] END ......C=10, gamma=0.01, kernel=rbf;, score=0.128 total time=   0.3s\n",
      "[CV 1/5] END ......C=10, gamma=0.01, kernel=rbf;, score=0.133 total time=   0.3s\n",
      "[CV 3/5] END ......C=10, gamma=0.01, kernel=rbf;, score=0.128 total time=   0.3s\n",
      "[CV 1/5] END .....C=10, gamma=0.01, kernel=poly;, score=0.789 total time=   0.1s\n",
      "[CV 2/5] END .....C=10, gamma=0.01, kernel=poly;, score=0.756 total time=   0.1s\n",
      "[CV 3/5] END .....C=10, gamma=0.01, kernel=poly;, score=0.711 total time=   0.1s\n",
      "[CV 4/5] END ......C=10, gamma=0.01, kernel=rbf;, score=0.128 total time=   0.3s\n",
      "[CV 4/5] END .....C=10, gamma=0.01, kernel=poly;, score=0.744 total time=   0.1s\n",
      "[CV 5/5] END .....C=10, gamma=0.01, kernel=poly;, score=0.772 total time=   0.1s\n",
      "[CV 5/5] END ......C=10, gamma=0.01, kernel=rbf;, score=0.128 total time=   0.3s\n",
      "[CV 1/5] END ..C=10, gamma=0.01, kernel=sigmoid;, score=0.133 total time=   0.2s\n",
      "[CV 2/5] END ..C=10, gamma=0.01, kernel=sigmoid;, score=0.128 total time=   0.2s\n",
      "[CV 4/5] END ..C=10, gamma=0.01, kernel=sigmoid;, score=0.128 total time=   0.2s\n",
      "[CV 3/5] END ..C=10, gamma=0.01, kernel=sigmoid;, score=0.128 total time=   0.3s\n",
      "[CV 5/5] END ..C=10, gamma=0.01, kernel=sigmoid;, score=0.128 total time=   0.2s\n",
      "[CV 1/5] END .....C=10, gamma=0.001, kernel=rbf;, score=0.133 total time=   0.3s\n",
      "[CV 2/5] END .....C=10, gamma=0.001, kernel=rbf;, score=0.128 total time=   0.3s\n",
      "[CV 1/5] END ....C=10, gamma=0.001, kernel=poly;, score=0.789 total time=   0.1s\n",
      "[CV 3/5] END .....C=10, gamma=0.001, kernel=rbf;, score=0.128 total time=   0.3s\n",
      "[CV 2/5] END ....C=10, gamma=0.001, kernel=poly;, score=0.756 total time=   0.1s\n",
      "[CV 3/5] END ....C=10, gamma=0.001, kernel=poly;, score=0.711 total time=   0.1s\n",
      "[CV 4/5] END .....C=10, gamma=0.001, kernel=rbf;, score=0.128 total time=   0.3s\n",
      "[CV 4/5] END ....C=10, gamma=0.001, kernel=poly;, score=0.744 total time=   0.1s\n",
      "[CV 5/5] END .....C=10, gamma=0.001, kernel=rbf;, score=0.128 total time=   0.3s\n",
      "[CV 5/5] END ....C=10, gamma=0.001, kernel=poly;, score=0.772 total time=   0.1s\n",
      "[CV 1/5] END .C=10, gamma=0.001, kernel=sigmoid;, score=0.133 total time=   0.2s\n",
      "[CV 2/5] END .C=10, gamma=0.001, kernel=sigmoid;, score=0.128 total time=   0.2s\n",
      "[CV 3/5] END .C=10, gamma=0.001, kernel=sigmoid;, score=0.128 total time=   0.2s\n",
      "[CV 4/5] END .C=10, gamma=0.001, kernel=sigmoid;, score=0.128 total time=   0.3s\n",
      "[CV 5/5] END .C=10, gamma=0.001, kernel=sigmoid;, score=0.128 total time=   0.2s\n",
      "[CV 1/5] END ....C=10, gamma=0.0001, kernel=rbf;, score=0.133 total time=   0.3s\n",
      "[CV 2/5] END ....C=10, gamma=0.0001, kernel=rbf;, score=0.128 total time=   0.3s\n",
      "[CV 1/5] END ...C=10, gamma=0.0001, kernel=poly;, score=0.789 total time=   0.1s\n",
      "[CV 3/5] END ....C=10, gamma=0.0001, kernel=rbf;, score=0.128 total time=   0.4s\n",
      "[CV 2/5] END ...C=10, gamma=0.0001, kernel=poly;, score=0.756 total time=   0.1s\n",
      "[CV 4/5] END ....C=10, gamma=0.0001, kernel=rbf;, score=0.128 total time=   0.3s\n",
      "[CV 3/5] END ...C=10, gamma=0.0001, kernel=poly;, score=0.711 total time=   0.1s\n",
      "[CV 4/5] END ...C=10, gamma=0.0001, kernel=poly;, score=0.744 total time=   0.1s\n",
      "[CV 5/5] END ...C=10, gamma=0.0001, kernel=poly;, score=0.772 total time=   0.1s\n",
      "[CV 5/5] END ....C=10, gamma=0.0001, kernel=rbf;, score=0.128 total time=   0.3s\n",
      "[CV 3/5] END C=10, gamma=0.0001, kernel=sigmoid;, score=0.128 total time=   0.2s\n",
      "[CV 2/5] END C=10, gamma=0.0001, kernel=sigmoid;, score=0.128 total time=   0.3s\n",
      "[CV 4/5] END C=10, gamma=0.0001, kernel=sigmoid;, score=0.128 total time=   0.2s\n",
      "[CV 1/5] END C=10, gamma=0.0001, kernel=sigmoid;, score=0.133 total time=   0.3s\n",
      "[CV 5/5] END C=10, gamma=0.0001, kernel=sigmoid;, score=0.128 total time=   0.2s\n",
      "[CV 2/5] END ........C=100, gamma=1, kernel=rbf;, score=0.128 total time=   0.3s\n",
      "[CV 1/5] END ........C=100, gamma=1, kernel=rbf;, score=0.133 total time=   0.3s\n",
      "[CV 3/5] END ........C=100, gamma=1, kernel=rbf;, score=0.128 total time=   0.4s\n",
      "[CV 1/5] END .......C=100, gamma=1, kernel=poly;, score=0.789 total time=   0.1s\n",
      "[CV 3/5] END .......C=100, gamma=1, kernel=poly;, score=0.711 total time=   0.1s\n",
      "[CV 2/5] END .......C=100, gamma=1, kernel=poly;, score=0.756 total time=   0.1s\n",
      "[CV 4/5] END ........C=100, gamma=1, kernel=rbf;, score=0.128 total time=   0.3s\n",
      "[CV 5/5] END .......C=100, gamma=1, kernel=poly;, score=0.772 total time=   0.1s\n",
      "[CV 4/5] END .......C=100, gamma=1, kernel=poly;, score=0.744 total time=   0.1s\n",
      "[CV 5/5] END ........C=100, gamma=1, kernel=rbf;, score=0.128 total time=   0.3s\n",
      "[CV 1/5] END ....C=100, gamma=1, kernel=sigmoid;, score=0.133 total time=   0.2s\n",
      "[CV 2/5] END ....C=100, gamma=1, kernel=sigmoid;, score=0.128 total time=   0.2s\n",
      "[CV 3/5] END ....C=100, gamma=1, kernel=sigmoid;, score=0.128 total time=   0.3s\n",
      "[CV 4/5] END ....C=100, gamma=1, kernel=sigmoid;, score=0.128 total time=   0.2s\n",
      "[CV 5/5] END ....C=100, gamma=1, kernel=sigmoid;, score=0.128 total time=   0.2s\n",
      "[CV 1/5] END ......C=100, gamma=0.1, kernel=rbf;, score=0.133 total time=   0.3s\n",
      "[CV 3/5] END ......C=100, gamma=0.1, kernel=rbf;, score=0.128 total time=   0.3s\n",
      "[CV 2/5] END ......C=100, gamma=0.1, kernel=rbf;, score=0.128 total time=   0.4s\n",
      "[CV 1/5] END .....C=100, gamma=0.1, kernel=poly;, score=0.789 total time=   0.1s\n",
      "[CV 4/5] END ......C=100, gamma=0.1, kernel=rbf;, score=0.128 total time=   0.3s\n",
      "[CV 3/5] END .....C=100, gamma=0.1, kernel=poly;, score=0.711 total time=   0.1s\n",
      "[CV 2/5] END .....C=100, gamma=0.1, kernel=poly;, score=0.756 total time=   0.1s\n",
      "[CV 4/5] END .....C=100, gamma=0.1, kernel=poly;, score=0.744 total time=   0.1s\n",
      "[CV 5/5] END ......C=100, gamma=0.1, kernel=rbf;, score=0.128 total time=   0.3s\n",
      "[CV 5/5] END .....C=100, gamma=0.1, kernel=poly;, score=0.772 total time=   0.1s\n",
      "[CV 1/5] END ..C=100, gamma=0.1, kernel=sigmoid;, score=0.133 total time=   0.3s\n",
      "[CV 2/5] END ..C=100, gamma=0.1, kernel=sigmoid;, score=0.128 total time=   0.2s\n",
      "[CV 4/5] END ..C=100, gamma=0.1, kernel=sigmoid;, score=0.128 total time=   0.2s\n",
      "[CV 3/5] END ..C=100, gamma=0.1, kernel=sigmoid;, score=0.128 total time=   0.2s\n",
      "[CV 5/5] END ..C=100, gamma=0.1, kernel=sigmoid;, score=0.128 total time=   0.3s\n",
      "[CV 2/5] END .....C=100, gamma=0.01, kernel=rbf;, score=0.128 total time=   0.3s\n",
      "[CV 1/5] END .....C=100, gamma=0.01, kernel=rbf;, score=0.133 total time=   0.3s\n",
      "[CV 3/5] END .....C=100, gamma=0.01, kernel=rbf;, score=0.128 total time=   0.3s\n",
      "[CV 2/5] END ....C=100, gamma=0.01, kernel=poly;, score=0.756 total time=   0.1s\n",
      "[CV 1/5] END ....C=100, gamma=0.01, kernel=poly;, score=0.789 total time=   0.1s\n",
      "[CV 3/5] END ....C=100, gamma=0.01, kernel=poly;, score=0.711 total time=   0.1s\n",
      "[CV 4/5] END ....C=100, gamma=0.01, kernel=poly;, score=0.744 total time=   0.1s\n",
      "[CV 5/5] END ....C=100, gamma=0.01, kernel=poly;, score=0.772 total time=   0.1s\n",
      "[CV 4/5] END .....C=100, gamma=0.01, kernel=rbf;, score=0.128 total time=   0.4s\n",
      "[CV 5/5] END .....C=100, gamma=0.01, kernel=rbf;, score=0.128 total time=   0.3s\n",
      "[CV 1/5] END .C=100, gamma=0.01, kernel=sigmoid;, score=0.133 total time=   0.2s\n",
      "[CV 2/5] END .C=100, gamma=0.01, kernel=sigmoid;, score=0.128 total time=   0.2s\n",
      "[CV 4/5] END .C=100, gamma=0.01, kernel=sigmoid;, score=0.128 total time=   0.2s\n",
      "[CV 3/5] END .C=100, gamma=0.01, kernel=sigmoid;, score=0.128 total time=   0.2s\n",
      "[CV 5/5] END .C=100, gamma=0.01, kernel=sigmoid;, score=0.128 total time=   0.2s\n",
      "[CV 1/5] END ....C=100, gamma=0.001, kernel=rbf;, score=0.133 total time=   0.3s\n",
      "[CV 2/5] END ....C=100, gamma=0.001, kernel=rbf;, score=0.128 total time=   0.3s\n",
      "[CV 1/5] END ...C=100, gamma=0.001, kernel=poly;, score=0.789 total time=   0.1s\n",
      "[CV 3/5] END ....C=100, gamma=0.001, kernel=rbf;, score=0.128 total time=   0.4s\n",
      "[CV 4/5] END ....C=100, gamma=0.001, kernel=rbf;, score=0.128 total time=   0.3s\n",
      "[CV 2/5] END ...C=100, gamma=0.001, kernel=poly;, score=0.756 total time=   0.1s\n",
      "[CV 4/5] END ...C=100, gamma=0.001, kernel=poly;, score=0.744 total time=   0.1s\n",
      "[CV 3/5] END ...C=100, gamma=0.001, kernel=poly;, score=0.711 total time=   0.1s\n",
      "[CV 5/5] END ...C=100, gamma=0.001, kernel=poly;, score=0.772 total time=   0.1s\n",
      "[CV 5/5] END ....C=100, gamma=0.001, kernel=rbf;, score=0.128 total time=   0.3s\n",
      "[CV 1/5] END C=100, gamma=0.001, kernel=sigmoid;, score=0.133 total time=   0.2s\n",
      "[CV 3/5] END C=100, gamma=0.001, kernel=sigmoid;, score=0.128 total time=   0.2s\n",
      "[CV 2/5] END C=100, gamma=0.001, kernel=sigmoid;, score=0.128 total time=   0.3s\n",
      "[CV 4/5] END C=100, gamma=0.001, kernel=sigmoid;, score=0.128 total time=   0.2s\n",
      "[CV 5/5] END C=100, gamma=0.001, kernel=sigmoid;, score=0.128 total time=   0.2s\n",
      "[CV 1/5] END ...C=100, gamma=0.0001, kernel=rbf;, score=0.133 total time=   0.3s\n",
      "[CV 3/5] END ...C=100, gamma=0.0001, kernel=rbf;, score=0.128 total time=   0.3s\n",
      "[CV 2/5] END ...C=100, gamma=0.0001, kernel=rbf;, score=0.128 total time=   0.4s\n",
      "[CV 4/5] END ...C=100, gamma=0.0001, kernel=rbf;, score=0.128 total time=   0.3s\n",
      "[CV 1/5] END ..C=100, gamma=0.0001, kernel=poly;, score=0.789 total time=   0.1s\n",
      "[CV 2/5] END ..C=100, gamma=0.0001, kernel=poly;, score=0.756 total time=   0.1s\n",
      "[CV 4/5] END ..C=100, gamma=0.0001, kernel=poly;, score=0.744 total time=   0.1s\n",
      "[CV 3/5] END ..C=100, gamma=0.0001, kernel=poly;, score=0.711 total time=   0.1s\n",
      "[CV 5/5] END ..C=100, gamma=0.0001, kernel=poly;, score=0.772 total time=   0.1s\n",
      "[CV 5/5] END ...C=100, gamma=0.0001, kernel=rbf;, score=0.128 total time=   0.3s\n",
      "[CV 2/5] END C=100, gamma=0.0001, kernel=sigmoid;, score=0.128 total time=   0.2s\n",
      "[CV 1/5] END C=100, gamma=0.0001, kernel=sigmoid;, score=0.133 total time=   0.2s\n",
      "[CV 4/5] END C=100, gamma=0.0001, kernel=sigmoid;, score=0.128 total time=   0.2s\n",
      "[CV 3/5] END C=100, gamma=0.0001, kernel=sigmoid;, score=0.128 total time=   0.2s\n",
      "[CV 5/5] END C=100, gamma=0.0001, kernel=sigmoid;, score=0.128 total time=   0.2s\n",
      "{'C': 0.1, 'gamma': 1, 'kernel': 'poly'}\n"
     ]
    }
   ],
   "source": [
    "param_grid = {'C': [0.1, 1, 10, 100],  'gamma': [1, 0.1, 0.01, 0.001, 0.0001],'kernel': ['rbf', 'poly', 'sigmoid']}  \n",
    "   \n",
    "grid = GridSearchCV(SVC(), param_grid, refit = True, verbose = 3,n_jobs=-1) \n",
    "   \n",
    "grid.fit(X_train, y_train) \n",
    " \n",
    "grid_predictions = grid.predict(X_test) \n",
    "\n",
    "print(grid.best_params_) "
   ]
  },
  {
   "cell_type": "code",
   "execution_count": 19,
   "metadata": {},
   "outputs": [
    {
     "name": "stdout",
     "output_type": "stream",
     "text": [
      "[[ 5  0  0  1  0  0  1  0  0  0]\n",
      " [ 0 12  0  0  0  0  0  0  0  0]\n",
      " [ 1  0  7  0  1  0  1  0  1  0]\n",
      " [ 0  2  0  9  0  0  2  0  0  0]\n",
      " [ 0  0  3  1  2  0  2  0  0  0]\n",
      " [ 0  0  0  0  0  7  0  4  0  0]\n",
      " [ 2  0  0  0  0  0  7  0  1  0]\n",
      " [ 0  0  0  0  0  0  0  8  0  0]\n",
      " [ 0  0  0  0  0  0  0  0  8  1]\n",
      " [ 0  1  0  0  0  0  0  2  0  8]]\n"
     ]
    }
   ],
   "source": [
    "print(confusion_matrix(y_test,grid_predictions))"
   ]
  },
  {
   "cell_type": "code",
   "execution_count": 20,
   "metadata": {},
   "outputs": [
    {
     "name": "stdout",
     "output_type": "stream",
     "text": [
      "              precision    recall  f1-score   support\n",
      "\n",
      "           0       0.62      0.71      0.67         7\n",
      "           1       0.80      1.00      0.89        12\n",
      "           2       0.70      0.64      0.67        11\n",
      "           3       0.82      0.69      0.75        13\n",
      "           4       0.67      0.25      0.36         8\n",
      "           5       1.00      0.64      0.78        11\n",
      "           6       0.54      0.70      0.61        10\n",
      "           7       0.57      1.00      0.73         8\n",
      "           8       0.80      0.89      0.84         9\n",
      "           9       0.89      0.73      0.80        11\n",
      "\n",
      "    accuracy                           0.73       100\n",
      "   macro avg       0.74      0.72      0.71       100\n",
      "weighted avg       0.76      0.73      0.72       100\n",
      "\n"
     ]
    }
   ],
   "source": [
    "print(classification_report(y_test, grid_predictions)) "
   ]
  }
 ],
 "metadata": {
  "interpreter": {
   "hash": "57baa5815c940fdaff4d14510622de9616cae602444507ba5d0b6727c008cbd6"
  },
  "kernelspec": {
   "display_name": "Python 3.7.8 64-bit",
   "language": "python",
   "name": "python3"
  },
  "language_info": {
   "codemirror_mode": {
    "name": "ipython",
    "version": 3
   },
   "file_extension": ".py",
   "mimetype": "text/x-python",
   "name": "python",
   "nbconvert_exporter": "python",
   "pygments_lexer": "ipython3",
   "version": "3.10.6"
  },
  "orig_nbformat": 4
 },
 "nbformat": 4,
 "nbformat_minor": 2
}
