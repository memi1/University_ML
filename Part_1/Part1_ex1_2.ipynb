{
 "cells": [
  {
   "cell_type": "markdown",
   "metadata": {},
   "source": [
    "Разглеждаме квадратичната форма $3x^2 + 8xz + 2y^2 + 6z^2$.\n",
    "\n",
    "а) съставете съответната й матрица \n",
    "имаме $$Q(x,y,z) = (x,y,z) \\begin{pmatrix} a_{1,1} &  \\cdots & a_{1,n} \\\\ \\vdots & & \\vdots \\\\  a_{n,1} &  \\cdots & a_{n,n} \\end{pmatrix}  \\begin{pmatrix} x \\\\ y \\\\z  \\end{pmatrix} $$ \n",
    "Съставяме матрицата $$ A = \\begin{pmatrix} a_{1,1} &  \\cdots & a_{1,n} \\\\ \\vdots & & \\vdots \\\\  a_{n,1} &  \\cdots & a_{n,n} \\end{pmatrix} $$\n",
    "б) намерете нейните собствени стойности и вектори;"
   ]
  },
  {
   "cell_type": "code",
   "execution_count": 1,
   "metadata": {},
   "outputs": [
    {
     "name": "stdout",
     "output_type": "stream",
     "text": [
      "Eigenvalues from matrix A:  [0.22799813 8.77200187 2.        ]\n",
      "Eigenvectors from matrix A:  [[-0.82192562 -0.56959484  0.        ]\n",
      " [ 0.          0.          1.        ]\n",
      " [ 0.56959484 -0.82192562  0.        ]]\n"
     ]
    }
   ],
   "source": [
    "import numpy as np\n",
    "A = [\n",
    "        [3, 0, 4],\n",
    "        [0, 2, 0],\n",
    "        [4, 0, 6]\n",
    "    ]\n",
    "\n",
    "E, v =np.linalg.eig(A)\n",
    "\n",
    "print('Eigenvalues from matrix A: ', E)\n",
    "print('Eigenvectors from matrix A: ', v)"
   ]
  },
  {
   "cell_type": "markdown",
   "metadata": {},
   "source": [
    "в) какъв тип е матрицата $U$ от собствените й вектори "
   ]
  },
  {
   "cell_type": "markdown",
   "metadata": {},
   "source": [
    "Векторите са взаимно ортогонални : "
   ]
  },
  {
   "cell_type": "code",
   "execution_count": 2,
   "metadata": {},
   "outputs": [
    {
     "name": "stdout",
     "output_type": "stream",
     "text": [
      "[-0.82192562  0.          0.56959484]\n"
     ]
    }
   ],
   "source": [
    "v1 = v[:,0]\n",
    "print(v1)"
   ]
  },
  {
   "cell_type": "code",
   "execution_count": 3,
   "metadata": {},
   "outputs": [
    {
     "name": "stdout",
     "output_type": "stream",
     "text": [
      "[-0.56959484  0.         -0.82192562]\n"
     ]
    }
   ],
   "source": [
    "v2 = v[:,1]\n",
    "print(v2)"
   ]
  },
  {
   "cell_type": "code",
   "execution_count": 4,
   "metadata": {},
   "outputs": [
    {
     "name": "stdout",
     "output_type": "stream",
     "text": [
      "[0. 1. 0.]\n"
     ]
    }
   ],
   "source": [
    "v3 = v[:,2]\n",
    "print(v3)"
   ]
  },
  {
   "cell_type": "code",
   "execution_count": 5,
   "metadata": {},
   "outputs": [
    {
     "data": {
      "text/plain": [
       "0.0"
      ]
     },
     "execution_count": 5,
     "metadata": {},
     "output_type": "execute_result"
    }
   ],
   "source": [
    "np.dot(v1,v2)\n"
   ]
  },
  {
   "cell_type": "code",
   "execution_count": 6,
   "metadata": {},
   "outputs": [
    {
     "data": {
      "text/plain": [
       "0.0"
      ]
     },
     "execution_count": 6,
     "metadata": {},
     "output_type": "execute_result"
    }
   ],
   "source": [
    "np.dot(v1,v3)"
   ]
  },
  {
   "cell_type": "code",
   "execution_count": 7,
   "metadata": {},
   "outputs": [
    {
     "data": {
      "text/plain": [
       "0.0"
      ]
     },
     "execution_count": 7,
     "metadata": {},
     "output_type": "execute_result"
    }
   ],
   "source": [
    "np.dot(v2,v3)"
   ]
  },
  {
   "cell_type": "markdown",
   "metadata": {},
   "source": [
    "Матрицата U е ортогонална; имаме матрицата $ U^T . U = I $\n",
    "\n",
    "\n",
    "I- единичната матрица "
   ]
  },
  {
   "cell_type": "code",
   "execution_count": 8,
   "metadata": {},
   "outputs": [
    {
     "name": "stdout",
     "output_type": "stream",
     "text": [
      "[[-0.82192562  0.          0.56959484]\n",
      " [-0.56959484  0.         -0.82192562]\n",
      " [ 0.          1.          0.        ]]\n"
     ]
    }
   ],
   "source": [
    "U = np.transpose(np.matrix(v))\n",
    "print(U)"
   ]
  },
  {
   "cell_type": "code",
   "execution_count": 9,
   "metadata": {},
   "outputs": [
    {
     "name": "stdout",
     "output_type": "stream",
     "text": [
      "[[-0.82192562 -0.56959484  0.        ]\n",
      " [ 0.          0.          1.        ]\n",
      " [ 0.56959484 -0.82192562  0.        ]]\n"
     ]
    }
   ],
   "source": [
    "UT = np.transpose(U)\n",
    "print(UT)"
   ]
  },
  {
   "cell_type": "code",
   "execution_count": 10,
   "metadata": {},
   "outputs": [
    {
     "name": "stdout",
     "output_type": "stream",
     "text": [
      "[[ 1.00000000e+00  0.00000000e+00 -2.70726788e-17]\n",
      " [ 0.00000000e+00  1.00000000e+00  0.00000000e+00]\n",
      " [-2.70726788e-17  0.00000000e+00  1.00000000e+00]]\n"
     ]
    },
    {
     "data": {
      "text/plain": [
       "True"
      ]
     },
     "execution_count": 10,
     "metadata": {},
     "output_type": "execute_result"
    }
   ],
   "source": [
    "UM = np.dot(UT,U)\n",
    "print(UM)\n",
    "I = np.identity(3)\n",
    "np.allclose(UM, I)"
   ]
  },
  {
   "cell_type": "markdown",
   "metadata": {},
   "source": [
    "На какъв тип геометрична операция съответства $U.(x,y,z)^T$ ?\n",
    "\n",
    "\n",
    "$$\\begin{pmatrix} x_1 \\\\ y_1 \\\\z_1  \\end{pmatrix} = U \\cdot \\begin{pmatrix} x \\\\ y \\\\ z \\end{pmatrix} $$ \n",
    "\n",
    "$$ \\begin{pmatrix} x_1 \\\\ y_1 \\\\z_1 \\end{pmatrix}^{T} = \\left( x_1, y_1, z_1 \\right) $$\n",
    "\n",
    "$$ \\left( x_1, y_1, z_1 \\right) \\cdot \\begin{pmatrix} x_1 \\\\ y_1 \\\\z_1 \\end{pmatrix} = x_1^2 + y_1^2 + z_1^2 $$\n",
    "\n",
    "$$ \\left[ U \\cdot \\begin{pmatrix} x \\\\ y \\\\ z  \\end{pmatrix} \\right] ^{T} \\cdot \\left[ U . \\begin{pmatrix} x \\\\ y \\\\ z  \\end{pmatrix} \\right] = $$\n",
    "\n",
    "$$ \\begin{pmatrix} x \\\\ y \\\\ z \\end{pmatrix}^{T} \\cdot U^T \\cdot U \\cdot \\begin{pmatrix} x \\\\ y \\\\ z \\end{pmatrix} = $$\n",
    "\n",
    "$$\\begin{pmatrix} x \\\\ y \\\\ z \\end{pmatrix} \\cdot \\begin{pmatrix} x \\\\ y \\\\ z \\end{pmatrix} = x^2 + y^2 + z^2 $$ \n",
    "\n",
    "$$ U^T \\cdot U = I $$ \n",
    " I e единичната матрица\n",
    "  \n",
    " ОТГ: от това следва че се запазват дължините на векторите\n",
    "\n"
   ]
  },
  {
   "attachments": {},
   "cell_type": "markdown",
   "metadata": {},
   "source": [
    "2*. Ако матрицата, свързана с дадена квадратична форма, има само положителни собствени стойности (, както е в горния случай), то какво свойство на квадратичната форма можете да посочите? \n",
    "\n",
    "\n",
    "ОТГ: При положителни собствени стойности, можем да твърдим, че квадратичната форма е положително определена"
   ]
  }
 ],
 "metadata": {
  "interpreter": {
   "hash": "57baa5815c940fdaff4d14510622de9616cae602444507ba5d0b6727c008cbd6"
  },
  "kernelspec": {
   "display_name": "Python 3.7.8 64-bit",
   "language": "python",
   "name": "python3"
  },
  "language_info": {
   "codemirror_mode": {
    "name": "ipython",
    "version": 3
   },
   "file_extension": ".py",
   "mimetype": "text/x-python",
   "name": "python",
   "nbconvert_exporter": "python",
   "pygments_lexer": "ipython3",
   "version": "3.10.6"
  },
  "orig_nbformat": 4
 },
 "nbformat": 4,
 "nbformat_minor": 2
}
